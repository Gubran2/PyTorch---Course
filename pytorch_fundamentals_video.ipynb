{
 "cells": [
  {
   "cell_type": "markdown",
   "id": "eaf2e5ef",
   "metadata": {},
   "source": [
    "## 00. PyTorch Fundamentals\n",
    "\n",
    "Resource notebook: https://www.learnpytorch.io/00_pytorch_fundamentals/"
   ]
  },
  {
   "cell_type": "code",
   "execution_count": 2,
   "id": "6be3624b",
   "metadata": {},
   "outputs": [
    {
     "name": "stdout",
     "output_type": "stream",
     "text": [
      "2.0.0+cpu\n"
     ]
    }
   ],
   "source": [
    "import torch\n",
    "import pandas as pd\n",
    "import numpy as np\n",
    "import matplotlib.pyplot as plt\n",
    "print(torch.__version__)"
   ]
  },
  {
   "cell_type": "code",
   "execution_count": 3,
   "id": "d25c6961",
   "metadata": {},
   "outputs": [
    {
     "name": "stdout",
     "output_type": "stream",
     "text": [
      "Hello I'am excited to start the PyTorch course\n"
     ]
    }
   ],
   "source": [
    "print(\"Hello I'am excited to start the PyTorch course\")"
   ]
  },
  {
   "cell_type": "markdown",
   "id": "32ef94f7",
   "metadata": {},
   "source": [
    "## Introduction to Tensors\n",
    "\n",
    "#### create tensors"
   ]
  },
  {
   "cell_type": "code",
   "execution_count": 4,
   "id": "4c2b165c",
   "metadata": {},
   "outputs": [
    {
     "name": "stdout",
     "output_type": "stream",
     "text": [
      "tensor(7)\n"
     ]
    }
   ],
   "source": [
    "## scalar\n",
    "scalar = torch.tensor(7)\n",
    "print(scalar)"
   ]
  },
  {
   "cell_type": "code",
   "execution_count": 5,
   "id": "db35bd24",
   "metadata": {},
   "outputs": [
    {
     "data": {
      "text/plain": [
       "0"
      ]
     },
     "execution_count": 5,
     "metadata": {},
     "output_type": "execute_result"
    }
   ],
   "source": [
    "scalar.ndim"
   ]
  },
  {
   "cell_type": "code",
   "execution_count": 6,
   "id": "4582f67a",
   "metadata": {},
   "outputs": [
    {
     "data": {
      "text/plain": [
       "7"
      ]
     },
     "execution_count": 6,
     "metadata": {},
     "output_type": "execute_result"
    }
   ],
   "source": [
    "## Get tensor back as python int\n",
    "scalar.item()"
   ]
  },
  {
   "cell_type": "code",
   "execution_count": 7,
   "id": "cb042616",
   "metadata": {},
   "outputs": [
    {
     "name": "stdout",
     "output_type": "stream",
     "text": [
      "tensor([7, 7])\n"
     ]
    }
   ],
   "source": [
    "# vector\n",
    "vector = torch.tensor([7, 7])\n",
    "print(vector)"
   ]
  },
  {
   "cell_type": "code",
   "execution_count": 8,
   "id": "ab384745",
   "metadata": {},
   "outputs": [
    {
     "data": {
      "text/plain": [
       "1"
      ]
     },
     "execution_count": 8,
     "metadata": {},
     "output_type": "execute_result"
    }
   ],
   "source": [
    "vector.ndim"
   ]
  },
  {
   "cell_type": "code",
   "execution_count": 9,
   "id": "0a058616",
   "metadata": {},
   "outputs": [
    {
     "data": {
      "text/plain": [
       "torch.Size([2])"
      ]
     },
     "execution_count": 9,
     "metadata": {},
     "output_type": "execute_result"
    }
   ],
   "source": [
    "vector.shape"
   ]
  },
  {
   "cell_type": "code",
   "execution_count": 10,
   "id": "8e475be3",
   "metadata": {},
   "outputs": [
    {
     "data": {
      "text/plain": [
       "tensor([[7, 8],\n",
       "        [9, 8]])"
      ]
     },
     "execution_count": 10,
     "metadata": {},
     "output_type": "execute_result"
    }
   ],
   "source": [
    "# MATRIX\n",
    "\n",
    "MATRIX = torch.tensor([[7, 8],\n",
    "                       [9, 8]])\n",
    "MATRIX"
   ]
  },
  {
   "cell_type": "code",
   "execution_count": 11,
   "id": "14f3b6f1",
   "metadata": {},
   "outputs": [
    {
     "data": {
      "text/plain": [
       "2"
      ]
     },
     "execution_count": 11,
     "metadata": {},
     "output_type": "execute_result"
    }
   ],
   "source": [
    "MATRIX.ndim"
   ]
  },
  {
   "cell_type": "code",
   "execution_count": 12,
   "id": "17e981e6",
   "metadata": {},
   "outputs": [
    {
     "data": {
      "text/plain": [
       "tensor([9, 8])"
      ]
     },
     "execution_count": 12,
     "metadata": {},
     "output_type": "execute_result"
    }
   ],
   "source": [
    "MATRIX[1]"
   ]
  },
  {
   "cell_type": "code",
   "execution_count": 13,
   "id": "f74482f5",
   "metadata": {},
   "outputs": [
    {
     "data": {
      "text/plain": [
       "torch.Size([2, 2])"
      ]
     },
     "execution_count": 13,
     "metadata": {},
     "output_type": "execute_result"
    }
   ],
   "source": [
    "MATRIX.shape"
   ]
  },
  {
   "cell_type": "code",
   "execution_count": 14,
   "id": "46ae3366",
   "metadata": {},
   "outputs": [
    {
     "data": {
      "text/plain": [
       "tensor([[[1, 2, 3],\n",
       "         [3, 6, 9],\n",
       "         [2, 4, 5]]])"
      ]
     },
     "execution_count": 14,
     "metadata": {},
     "output_type": "execute_result"
    }
   ],
   "source": [
    "# Tensor \n",
    "tensor = torch.tensor([[[1,2,3],\n",
    "                        [3,6,9],\n",
    "                        [2,4,5]]])\n",
    "tensor"
   ]
  },
  {
   "cell_type": "code",
   "execution_count": 15,
   "id": "a9155ddf",
   "metadata": {},
   "outputs": [
    {
     "data": {
      "text/plain": [
       "3"
      ]
     },
     "execution_count": 15,
     "metadata": {},
     "output_type": "execute_result"
    }
   ],
   "source": [
    "tensor.ndim "
   ]
  },
  {
   "cell_type": "code",
   "execution_count": 16,
   "id": "71767f68",
   "metadata": {},
   "outputs": [
    {
     "data": {
      "text/plain": [
       "torch.Size([1, 3, 3])"
      ]
     },
     "execution_count": 16,
     "metadata": {},
     "output_type": "execute_result"
    }
   ],
   "source": [
    "tensor.shape"
   ]
  },
  {
   "cell_type": "markdown",
   "id": "9c4099d1",
   "metadata": {},
   "source": [
    "### Random tensors"
   ]
  },
  {
   "cell_type": "markdown",
   "id": "9eb5de9a",
   "metadata": {},
   "source": [
    "Why are random tensors important?\n",
    "\n",
    "Training starts with random weights. We compute the loss, run backpropagation, and update the weights in the direction that reduces the loss. We repeat these steps many times (often thousands) until the model is close to the correct solution.\n",
    "\n",
    "Super-short version:\n",
    "Start with random numbers → compute loss → backpropagate → update weights → repeat many times."
   ]
  },
  {
   "cell_type": "code",
   "execution_count": 17,
   "id": "679a9883",
   "metadata": {},
   "outputs": [
    {
     "data": {
      "text/plain": [
       "tensor([[0.0763, 0.3872, 0.1854, 0.0777],\n",
       "        [0.0094, 0.4050, 0.9095, 0.0683],\n",
       "        [0.9015, 0.2684, 0.0020, 0.2659]])"
      ]
     },
     "execution_count": 17,
     "metadata": {},
     "output_type": "execute_result"
    }
   ],
   "source": [
    "# create a random tensor of size(3,4)\n",
    "random_tensor = torch.rand(3,4)\n",
    "random_tensor"
   ]
  },
  {
   "cell_type": "code",
   "execution_count": 18,
   "id": "418c6107",
   "metadata": {},
   "outputs": [
    {
     "data": {
      "text/plain": [
       "2"
      ]
     },
     "execution_count": 18,
     "metadata": {},
     "output_type": "execute_result"
    }
   ],
   "source": [
    "random_tensor.ndim"
   ]
  },
  {
   "cell_type": "code",
   "execution_count": 19,
   "id": "44046c65",
   "metadata": {},
   "outputs": [
    {
     "data": {
      "text/plain": [
       "torch.Size([3, 4])"
      ]
     },
     "execution_count": 19,
     "metadata": {},
     "output_type": "execute_result"
    }
   ],
   "source": [
    "random_tensor.shape"
   ]
  },
  {
   "cell_type": "code",
   "execution_count": 20,
   "id": "eb08d393",
   "metadata": {},
   "outputs": [
    {
     "data": {
      "text/plain": [
       "tensor([[[0.1874, 0.2263, 0.6517,  ..., 0.9641, 0.9571, 0.4873],\n",
       "         [0.9756, 0.4761, 0.7944,  ..., 0.2043, 0.6581, 0.8955],\n",
       "         [0.6750, 0.2303, 0.1171,  ..., 0.6221, 0.8172, 0.2626],\n",
       "         ...,\n",
       "         [0.7950, 0.0201, 0.4413,  ..., 0.9738, 0.6208, 0.8156],\n",
       "         [0.0495, 0.0761, 0.6986,  ..., 0.2558, 0.7966, 0.9868],\n",
       "         [0.1778, 0.3418, 0.8275,  ..., 0.7602, 0.5291, 0.2418]],\n",
       "\n",
       "        [[0.4141, 0.1943, 0.3365,  ..., 0.0612, 0.5134, 0.8669],\n",
       "         [0.0356, 0.5056, 0.2549,  ..., 0.5206, 0.9765, 0.8387],\n",
       "         [0.6349, 0.1074, 0.6165,  ..., 0.3620, 0.7175, 0.3771],\n",
       "         ...,\n",
       "         [0.9006, 0.1239, 0.8974,  ..., 0.9139, 0.6834, 0.1495],\n",
       "         [0.8550, 0.4860, 0.3646,  ..., 0.0966, 0.8001, 0.5213],\n",
       "         [0.3642, 0.4218, 0.2217,  ..., 0.4837, 0.2158, 0.5980]],\n",
       "\n",
       "        [[0.8916, 0.4101, 0.3233,  ..., 0.0910, 0.3746, 0.5445],\n",
       "         [0.7938, 0.0555, 0.6574,  ..., 0.1430, 0.5641, 0.4655],\n",
       "         [0.5614, 0.6162, 0.0252,  ..., 0.0508, 0.7895, 0.5799],\n",
       "         ...,\n",
       "         [0.1631, 0.5830, 0.5403,  ..., 0.8779, 0.9073, 0.1272],\n",
       "         [0.3042, 0.1541, 0.4560,  ..., 0.4070, 0.7150, 0.4243],\n",
       "         [0.1346, 0.9399, 0.9511,  ..., 0.8681, 0.5855, 0.1612]]])"
      ]
     },
     "execution_count": 20,
     "metadata": {},
     "output_type": "execute_result"
    }
   ],
   "source": [
    "## create a random tensor with similar shape to an image tensor.\n",
    "random_tenso_image = torch.rand(size=(3,224,224))# \n",
    "random_tenso_image"
   ]
  },
  {
   "cell_type": "code",
   "execution_count": 21,
   "id": "843738cc",
   "metadata": {},
   "outputs": [
    {
     "data": {
      "text/plain": [
       "torch.Size([3, 224, 224])"
      ]
     },
     "execution_count": 21,
     "metadata": {},
     "output_type": "execute_result"
    }
   ],
   "source": [
    "random_tenso_image.shape"
   ]
  },
  {
   "cell_type": "code",
   "execution_count": 22,
   "id": "5663421c",
   "metadata": {},
   "outputs": [
    {
     "data": {
      "text/plain": [
       "3"
      ]
     },
     "execution_count": 22,
     "metadata": {},
     "output_type": "execute_result"
    }
   ],
   "source": [
    "random_tenso_image.ndim"
   ]
  },
  {
   "cell_type": "markdown",
   "id": "eaf619a0",
   "metadata": {},
   "source": [
    "## Zeros and ones"
   ]
  },
  {
   "cell_type": "code",
   "execution_count": 23,
   "id": "dca87239",
   "metadata": {},
   "outputs": [
    {
     "data": {
      "text/plain": [
       "tensor([[0., 0., 0., 0.],\n",
       "        [0., 0., 0., 0.],\n",
       "        [0., 0., 0., 0.]])"
      ]
     },
     "execution_count": 23,
     "metadata": {},
     "output_type": "execute_result"
    }
   ],
   "source": [
    "# create tensors of zeros\n",
    "zeros = torch.zeros(3,4)\n",
    "zeros"
   ]
  },
  {
   "cell_type": "code",
   "execution_count": 24,
   "id": "f9d17355",
   "metadata": {},
   "outputs": [
    {
     "data": {
      "text/plain": [
       "tensor([[1., 1., 1., 1.],\n",
       "        [1., 1., 1., 1.],\n",
       "        [1., 1., 1., 1.]])"
      ]
     },
     "execution_count": 24,
     "metadata": {},
     "output_type": "execute_result"
    }
   ],
   "source": [
    "# create tensors of ones\n",
    "ones = torch.ones(3,4)\n",
    "ones"
   ]
  },
  {
   "cell_type": "code",
   "execution_count": 25,
   "id": "d54223d0",
   "metadata": {},
   "outputs": [
    {
     "data": {
      "text/plain": [
       "tensor([[0., 0., 0., 0.],\n",
       "        [0., 0., 0., 0.],\n",
       "        [0., 0., 0., 0.]])"
      ]
     },
     "execution_count": 25,
     "metadata": {},
     "output_type": "execute_result"
    }
   ],
   "source": [
    "ones*zeros"
   ]
  },
  {
   "cell_type": "code",
   "execution_count": 26,
   "id": "60fea6bf",
   "metadata": {},
   "outputs": [
    {
     "data": {
      "text/plain": [
       "torch.float32"
      ]
     },
     "execution_count": 26,
     "metadata": {},
     "output_type": "execute_result"
    }
   ],
   "source": [
    "ones.dtype"
   ]
  },
  {
   "cell_type": "markdown",
   "id": "302bf1b2",
   "metadata": {},
   "source": [
    "## Creating a range of tensors and tesors-like"
   ]
  },
  {
   "cell_type": "code",
   "execution_count": 27,
   "id": "04a1f8ed",
   "metadata": {},
   "outputs": [
    {
     "name": "stderr",
     "output_type": "stream",
     "text": [
      "C:\\Users\\gubra\\AppData\\Local\\Temp\\ipykernel_28644\\2586928959.py:3: UserWarning: torch.range is deprecated and will be removed in a future release because its behavior is inconsistent with Python's range builtin. Instead, use torch.arange, which produces values in [start, end).\n",
      "  one_to_ten = torch.range(start=1, end=50, step=7)\n"
     ]
    },
    {
     "data": {
      "text/plain": [
       "tensor([ 1.,  8., 15., 22., 29., 36., 43., 50.])"
      ]
     },
     "execution_count": 27,
     "metadata": {},
     "output_type": "execute_result"
    }
   ],
   "source": [
    "# use torch.range() and get deprecated message, use torch.arange()\n",
    "\n",
    "one_to_ten = torch.range(start=1, end=50, step=7)\n",
    "one_to_ten"
   ]
  },
  {
   "cell_type": "code",
   "execution_count": 28,
   "id": "ffc297d8",
   "metadata": {},
   "outputs": [
    {
     "data": {
      "text/plain": [
       "tensor([0., 0., 0., 0., 0., 0., 0., 0.])"
      ]
     },
     "execution_count": 28,
     "metadata": {},
     "output_type": "execute_result"
    }
   ],
   "source": [
    "ten_zeros = torch.zeros_like(one_to_ten)\n",
    "ten_zeros"
   ]
  },
  {
   "cell_type": "markdown",
   "id": "b32efc07",
   "metadata": {},
   "source": [
    "## tensor datatypes\n",
    "\n",
    "Note: Tensor datatypes is one of the 3 big errors you will run into with PyTorch and deeep learning:\n",
    "\n",
    "1. Tensors not right datatype\n",
    "2. Tensors not right shape\n",
    "3. Tensors not on the right device\n",
    "\n",
    "\n",
    "For every sensor we have to know the datatype, shape, device sa we can avoid the errors."
   ]
  },
  {
   "cell_type": "code",
   "execution_count": 29,
   "id": "bbe6c337",
   "metadata": {},
   "outputs": [
    {
     "data": {
      "text/plain": [
       "torch.float32"
      ]
     },
     "execution_count": 29,
     "metadata": {},
     "output_type": "execute_result"
    }
   ],
   "source": [
    "float_32_tensor = torch.tensor([3.0, 6.0 , 9.0],\n",
    "                               dtype=None, # what datatype is the tensor (float 32)\n",
    "                               device=None,\n",
    "                               requires_grad=False)\n",
    "\n",
    "float_32_tensor.dtype"
   ]
  },
  {
   "cell_type": "code",
   "execution_count": 30,
   "id": "6e7323d2",
   "metadata": {},
   "outputs": [
    {
     "data": {
      "text/plain": [
       "torch.float16"
      ]
     },
     "execution_count": 30,
     "metadata": {},
     "output_type": "execute_result"
    }
   ],
   "source": [
    "## try to change the type of a sensor\n",
    "float_32_tensor = float_32_tensor.type(torch.float16)\n",
    "float_32_tensor.dtype"
   ]
  },
  {
   "cell_type": "code",
   "execution_count": 31,
   "id": "21bd9949",
   "metadata": {},
   "outputs": [
    {
     "data": {
      "text/plain": [
       "tensor([ 3,  5, 10], dtype=torch.int32)"
      ]
     },
     "execution_count": 31,
     "metadata": {},
     "output_type": "execute_result"
    }
   ],
   "source": [
    "int_32_tesnor = torch.tensor([3, 5, 10], dtype =torch.int32) \n",
    "int_32_tesnor"
   ]
  },
  {
   "cell_type": "code",
   "execution_count": 32,
   "id": "73454c91",
   "metadata": {},
   "outputs": [
    {
     "data": {
      "text/plain": [
       "tensor([ 9., 30., 90.], dtype=torch.float16)"
      ]
     },
     "execution_count": 32,
     "metadata": {},
     "output_type": "execute_result"
    }
   ],
   "source": [
    "int_32_tesnor * float_32_tensor"
   ]
  },
  {
   "cell_type": "code",
   "execution_count": 37,
   "id": "48f86f3b",
   "metadata": {},
   "outputs": [
    {
     "data": {
      "text/plain": [
       "tensor([[[0.7431, 0.4028, 0.8196,  ..., 0.0793, 0.5954, 0.6591],\n",
       "         [0.8386, 0.9375, 0.5566,  ..., 0.7453, 0.2358, 0.4454],\n",
       "         [0.2228, 0.4933, 0.6192,  ..., 0.3710, 0.6015, 0.6894],\n",
       "         ...,\n",
       "         [0.7305, 0.4997, 0.5787,  ..., 0.4902, 0.1786, 0.2093],\n",
       "         [0.7564, 0.1953, 0.5924,  ..., 0.0785, 0.2073, 0.7499],\n",
       "         [0.5173, 0.7977, 0.7124,  ..., 0.2311, 0.7475, 0.8893]],\n",
       "\n",
       "        [[0.9524, 0.1354, 0.3939,  ..., 0.7231, 0.5552, 0.0645],\n",
       "         [0.3978, 0.1224, 0.1512,  ..., 0.0974, 0.7303, 0.7776],\n",
       "         [0.5257, 0.8464, 0.7497,  ..., 0.2444, 0.3856, 0.8051],\n",
       "         ...,\n",
       "         [0.9801, 0.3564, 0.9376,  ..., 0.3306, 0.5362, 0.9854],\n",
       "         [0.5101, 0.6589, 0.7515,  ..., 0.6302, 0.9867, 0.2160],\n",
       "         [0.8235, 0.6167, 0.0579,  ..., 0.5771, 0.9948, 0.7863]],\n",
       "\n",
       "        [[0.2386, 0.4730, 0.6102,  ..., 0.5438, 0.8574, 0.1082],\n",
       "         [0.9921, 0.3926, 0.5972,  ..., 0.6415, 0.0597, 0.1841],\n",
       "         [0.2421, 0.8895, 0.1567,  ..., 0.5057, 0.6769, 0.9240],\n",
       "         ...,\n",
       "         [0.8259, 0.4694, 0.3336,  ..., 0.1300, 0.1592, 0.6607],\n",
       "         [0.2936, 0.7769, 0.1563,  ..., 0.6057, 0.6425, 0.3973],\n",
       "         [0.8441, 0.4304, 0.1872,  ..., 0.0454, 0.7737, 0.3679]]])"
      ]
     },
     "execution_count": 37,
     "metadata": {},
     "output_type": "execute_result"
    }
   ],
   "source": [
    "## create a tensor\n",
    "tensor_ex = torch.rand([3,224,224])\n",
    "tensor_ex"
   ]
  },
  {
   "cell_type": "code",
   "execution_count": 38,
   "id": "a5dfafc9",
   "metadata": {},
   "outputs": [
    {
     "name": "stdout",
     "output_type": "stream",
     "text": [
      "This is the divice of the sensor cpu\n",
      "This is the shape of the sensor torch.Size([3, 224, 224])\n",
      "This is the dtype of the sensor torch.float32\n"
     ]
    }
   ],
   "source": [
    "## finds out the details for the tensor\n",
    "# device, shape, dttype\n",
    "\n",
    "print(\"This is the divice of the sensor\", tensor_ex.device)\n",
    "print(\"This is the shape of the sensor\", tensor_ex.shape)\n",
    "print(\"This is the dtype of the sensor\", tensor_ex.dtype)"
   ]
  },
  {
   "cell_type": "code",
   "execution_count": null,
   "id": "ec9e0187",
   "metadata": {},
   "outputs": [],
   "source": []
  }
 ],
 "metadata": {
  "kernelspec": {
   "display_name": "Python 3",
   "language": "python",
   "name": "python3"
  },
  "language_info": {
   "codemirror_mode": {
    "name": "ipython",
    "version": 3
   },
   "file_extension": ".py",
   "mimetype": "text/x-python",
   "name": "python",
   "nbconvert_exporter": "python",
   "pygments_lexer": "ipython3",
   "version": "3.10.0"
  }
 },
 "nbformat": 4,
 "nbformat_minor": 5
}
